{
 "cells": [
  {
   "cell_type": "code",
   "execution_count": 24,
   "id": "6f7c0b48-88a9-4379-9b1b-e91b4a3b204b",
   "metadata": {},
   "outputs": [
    {
     "data": {
      "text/plain": [
       "[1, 3, 5, 7, 9, 11, 13, 15, 17, 19, 21, 23, 25]"
      ]
     },
     "execution_count": 24,
     "metadata": {},
     "output_type": "execute_result"
    }
   ],
   "source": [
    "#1 'def' keyword is used to create a function\n",
    "def odd():\n",
    "    l1=[]\n",
    "    for i in range(1,26):\n",
    "        if i%2!=0:\n",
    "            l1.append(i)\n",
    "    return l1\n",
    "odd()"
   ]
  },
  {
   "cell_type": "code",
   "execution_count": 5,
   "id": "38b08236-dada-47e7-9d37-3cc6305c6e0b",
   "metadata": {},
   "outputs": [
    {
     "data": {
      "text/plain": [
       "'*args is used for taking the number of arguments as user wants\\n   **kwargs is used for taking the number of dictionary arguments which contains the key and its value as number of the user wants.'"
      ]
     },
     "execution_count": 5,
     "metadata": {},
     "output_type": "execute_result"
    }
   ],
   "source": [
    "#2 \n",
    "\"\"\"*args is used for taking the number of arguments as user wants\n",
    "   **kwargs is used for taking the number of dictionary arguments which contains the key and its value as number of the user wants.\"\"\"\n"
   ]
  },
  {
   "cell_type": "code",
   "execution_count": 6,
   "id": "249935f0-58e2-4663-b47a-4336b0d3e5ae",
   "metadata": {},
   "outputs": [
    {
     "name": "stdout",
     "output_type": "stream",
     "text": [
      "(2, 3) <class 'tuple'>\n"
     ]
    }
   ],
   "source": [
    "#examole of *args\n",
    "def add(*args):\n",
    "    print(args, type(args))\n",
    "\n",
    "add(2, 3)"
   ]
  },
  {
   "cell_type": "code",
   "execution_count": 8,
   "id": "849aa9f2-2281-4dcf-9412-c2ebff540c92",
   "metadata": {},
   "outputs": [
    {
     "name": "stdout",
     "output_type": "stream",
     "text": [
      "{'banana': 5, 'mango': 7, 'apple': 8} <class 'dict'>\n"
     ]
    }
   ],
   "source": [
    "#example of **kwargs\n",
    "def total_fruits(**kwargs):\n",
    "    print(kwargs, type(kwargs))\n",
    "\n",
    "\n",
    "total_fruits(banana=5, mango=7, apple=8)"
   ]
  },
  {
   "cell_type": "code",
   "execution_count": 9,
   "id": "6fc1a1e3-7402-4970-8b99-3571edf27f5b",
   "metadata": {},
   "outputs": [],
   "source": [
    "#3 Iterator in Python is an object that is used to iterate over iterable objects like lists, tuples, dicts, and sets. The iterator object is initialized using the iter() method. It uses the next() method for iteration."
   ]
  },
  {
   "cell_type": "code",
   "execution_count": 16,
   "id": "7454f270-fb74-4474-aeac-3eddb112112b",
   "metadata": {},
   "outputs": [
    {
     "name": "stdout",
     "output_type": "stream",
     "text": [
      "2\n",
      "4\n",
      "6\n"
     ]
    }
   ],
   "source": [
    "l=[2,4,6,8,10,12,14,16,18,20]\n",
    "s=iter(l)\n",
    "print(next(s))\n",
    "print(next(s))\n",
    "print(next(s))"
   ]
  },
  {
   "cell_type": "code",
   "execution_count": 1,
   "id": "82f37e2f-03be-4b55-8d67-497bab85dcc1",
   "metadata": {},
   "outputs": [],
   "source": [
    "#4Generators are also used to create functions that behave like iterators. It is a different approach to create iterators."
   ]
  },
  {
   "cell_type": "code",
   "execution_count": 2,
   "id": "5013b1d5-2444-432f-99e2-1d7952c94562",
   "metadata": {},
   "outputs": [],
   "source": [
    "def swapy6(n):\n",
    "    a,b=0,1\n",
    "    for i in range(n):\n",
    "        yield a\n",
    "        a,b=b,a+b"
   ]
  },
  {
   "cell_type": "code",
   "execution_count": 3,
   "id": "0c418205-2ab7-40bb-abba-8c516c25b264",
   "metadata": {},
   "outputs": [
    {
     "data": {
      "text/plain": [
       "<generator object swapy6 at 0x7f1a64b79930>"
      ]
     },
     "execution_count": 3,
     "metadata": {},
     "output_type": "execute_result"
    }
   ],
   "source": [
    "swapy6(7)"
   ]
  },
  {
   "cell_type": "code",
   "execution_count": 5,
   "id": "7625ce80-e216-433f-ad0d-f2af5739f1cd",
   "metadata": {},
   "outputs": [
    {
     "data": {
      "text/plain": [
       "[0, 1, 1, 2, 3, 5, 8]"
      ]
     },
     "execution_count": 5,
     "metadata": {},
     "output_type": "execute_result"
    }
   ],
   "source": [
    "list(swapy6(7))"
   ]
  },
  {
   "cell_type": "code",
   "execution_count": 6,
   "id": "4888478e-03b9-492d-baba-aff95be53d88",
   "metadata": {},
   "outputs": [],
   "source": [
    "#5 generator function for the prime numbers less than 1000"
   ]
  },
  {
   "cell_type": "code",
   "execution_count": 2,
   "id": "b36e507d-ffa2-44c0-88fb-219d1e6efbb8",
   "metadata": {},
   "outputs": [],
   "source": [
    "def prime():    \n",
    "    p=[]\n",
    "    for i in range(2,1001):\n",
    "        flag=False\n",
    "        for j in range(2,i):\n",
    "            if i%j==0:\n",
    "                flag=True\n",
    "            else:\n",
    "                pass\n",
    "        if flag:\n",
    "            pass\n",
    "        else:\n",
    "            yield p            \n",
    "    print(set(p))                       "
   ]
  },
  {
   "cell_type": "code",
   "execution_count": 7,
   "id": "41357833-87e5-4dca-86de-1d5efa53ca99",
   "metadata": {},
   "outputs": [
    {
     "name": "stdout",
     "output_type": "stream",
     "text": [
      "0\n",
      "1\n",
      "1\n",
      "2\n",
      "3\n",
      "5\n",
      "8\n",
      "13\n",
      "21\n",
      "34\n"
     ]
    }
   ],
   "source": [
    "# first 10 fibonacci numbers using a while loop\n",
    "a=0\n",
    "b=1\n",
    "count=1\n",
    "while count<=10:\n",
    "    print(a)\n",
    "    c=a+b\n",
    "    a=b\n",
    "    b=c\n",
    "    count=count+1"
   ]
  },
  {
   "cell_type": "code",
   "execution_count": 9,
   "id": "9ce2dd11-d79e-4be4-b838-135689289eb4",
   "metadata": {},
   "outputs": [
    {
     "data": {
      "text/plain": [
       "['p', 'w', 's', 'k', 'i', 'l', 'l', 's']"
      ]
     },
     "execution_count": 9,
     "metadata": {},
     "output_type": "execute_result"
    }
   ],
   "source": [
    "#7comprehension\n",
    "l=\"pwskills\"\n",
    "[i for i in l]"
   ]
  },
  {
   "cell_type": "code",
   "execution_count": 12,
   "id": "4e469e09-928c-4ad8-a068-b742c329222b",
   "metadata": {},
   "outputs": [
    {
     "name": "stdin",
     "output_type": "stream",
     "text": [
      "enter the number 56765\n"
     ]
    },
    {
     "name": "stdout",
     "output_type": "stream",
     "text": [
      "The given number is a pallindrome\n"
     ]
    }
   ],
   "source": [
    "#8 check whether the given number is a pallindrome \n",
    "n=input(\"enter the number\")\n",
    "length=len(n)\n",
    "for i in range(0,length):\n",
    "    if n[i]==n[(length-i)-1]:\n",
    "        pass\n",
    "    else:\n",
    "        print(\"given number is not pallindrome\")\n",
    "        break\n",
    "print(\"The given number is a pallindrome\")\n"
   ]
  },
  {
   "cell_type": "code",
   "execution_count": 19,
   "id": "f586ef15-782e-4d5f-ac78-afd4532b66d5",
   "metadata": {},
   "outputs": [
    {
     "name": "stdout",
     "output_type": "stream",
     "text": [
      "[1, 3, 5, 7, 9, 11, 13, 15, 17, 19, 21, 23, 25, 27, 29, 31, 33, 35, 37, 39, 41, 43, 45, 47, 49, 51, 53, 55, 57, 59, 61, 63, 65, 67, 69, 71, 73, 75, 77, 79, 81, 83, 85, 87, 89, 91, 93, 95, 97, 99]\n"
     ]
    }
   ],
   "source": [
    "#odd numbers from 1 to 100\n",
    "odd=[]\n",
    "[odd.append(i) for i in range(1,101) if i%2!=0]\n",
    "print(odd)"
   ]
  }
 ],
 "metadata": {
  "kernelspec": {
   "display_name": "Python 3 (ipykernel)",
   "language": "python",
   "name": "python3"
  },
  "language_info": {
   "codemirror_mode": {
    "name": "ipython",
    "version": 3
   },
   "file_extension": ".py",
   "mimetype": "text/x-python",
   "name": "python",
   "nbconvert_exporter": "python",
   "pygments_lexer": "ipython3",
   "version": "3.10.8"
  }
 },
 "nbformat": 4,
 "nbformat_minor": 5
}
