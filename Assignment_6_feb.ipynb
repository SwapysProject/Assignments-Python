{
 "cells": [
  {
   "cell_type": "code",
   "execution_count": 10,
   "id": "ea2fa50e-2ec5-4e0e-a86a-38f03b248cd1",
   "metadata": {},
   "outputs": [],
   "source": [
    "#1 product of all numerical values in the list\n",
    "def np(l):\n",
    "    f=[]\n",
    "    for i in l:\n",
    "        if type(i)==int or type(i)==float:\n",
    "            f.append(i)\n",
    "        elif type(i)==list or type(i)==tuple or type(i)==set :\n",
    "            for j in i:\n",
    "                if type(j)==int or type(j)==float:\n",
    "                    f.append(j)\n",
    "        elif type(i)==dict:\n",
    "            for j in i.keys():\n",
    "                if type(j)==int or type(j)==float:\n",
    "                    f.append(j)\n",
    "                elif type(j)==list or type(j)==tuple or type(j)==set: \n",
    "                    for t in i:\n",
    "                        if type(t)==int or type(t)==float:\n",
    "                            f.append(t)\n",
    "            for j in i.items():\n",
    "                if type(j)==int or type(j)==float:\n",
    "                    f.append(j)\n",
    "                elif type(j)==list or type(j)==tuple or type(j)==set :\n",
    "                    for t in i:\n",
    "                        if type(t)==int or type(t)==float:\n",
    "                            f.append(t)\n",
    "    print(f)\n",
    "    product=1\n",
    "    for i in f:\n",
    "        product=product*i\n",
    "    print(\"product of all numbers in the list=\",product)\n",
    "        "
   ]
  },
  {
   "cell_type": "code",
   "execution_count": 8,
   "id": "de259722-d997-4ce2-a5a6-3534d23c5f23",
   "metadata": {},
   "outputs": [],
   "source": [
    "list1 = [1,2,3,4, [44,55,66, True], False, (34,56,78,89,34), {1,2,3,3,2,1}, {1:34, \"key2\": [55, 67, 78, 89], 4: (45, \n",
    "22, 61, 34)}, [56, 'data science'], 'Machine Learning']"
   ]
  },
  {
   "cell_type": "code",
   "execution_count": 11,
   "id": "2d63ccec-25bf-4b13-a860-74d371ffad16",
   "metadata": {},
   "outputs": [
    {
     "name": "stdout",
     "output_type": "stream",
     "text": [
      "[1, 2, 3, 4, 44, 55, 66, 34, 56, 78, 89, 34, 1, 2, 3, 1, 4, 1, 4, 1, 4, 1, 4, 56]\n",
      "product of all numbers in the list= 148176815271979253760\n"
     ]
    }
   ],
   "source": [
    "np(list1)"
   ]
  },
  {
   "cell_type": "code",
   "execution_count": 9,
   "id": "521278f2-6c18-44cc-8306-7159eb0e444a",
   "metadata": {},
   "outputs": [],
   "source": [
    "def encryption(s):\n",
    "    for i in s:\n",
    "        i.lower()\n",
    "    l=len(s)\n",
    "    count=1\n",
    "    while count<=l:\n",
    "        for i in s:\n",
    "            if i==\" \":\n",
    "                \" \".replace(\" \",\"$\")\n",
    "            elif i==\"a\":\n",
    "                \"a\".replace(\"a\",\"z\")\n",
    "            elif i==\"b\":\n",
    "                \"b\".replace(\"b\",\"y\")            \n",
    "            elif i==\"c\":\n",
    "                \"c\".replace(\"c\",\"x\")            \n",
    "            elif i==\"d\":\n",
    "                \"d\".replace(\"d\",\"w\")    \n",
    "            elif i==\"e\":\n",
    "                \"e\".replace(\"e\",\"v\")\n",
    "            elif i==\"f\":\n",
    "                \"f\".replace(\"f\",\"u\")    \n",
    "            elif i==\"g\":\n",
    "                \"g\".replace(\"g\",\"t\") \n",
    "            elif i==\"h\":\n",
    "                \"h\".replace(\"h\",\"s\")\n",
    "            elif i==\"i\":\n",
    "                \"i\".replace(\"i\",\"r\") \n",
    "            elif i==\"j\":\n",
    "                \"j\".replace(\"j\",\"q\")\n",
    "            elif i==\"k\":\n",
    "                \"k\".replace(\"k\",\"p\")            \n",
    "            elif i==\"l\":\n",
    "                \"l\".replace(\"l\",\"o\")            \n",
    "            elif i==\"m\":\n",
    "                \"m\".replace(\"m\",\"n\")    \n",
    "            elif i==\"n\":\n",
    "                \"n\".replace(\"n\",\"m\")\n",
    "            elif i==\"o\":\n",
    "                \"o\".replace(\"o\",\"l\")    \n",
    "            elif i==\"p\":\n",
    "                \"p\".replace(\"p\",\"k\") \n",
    "            elif i==\"q\":\n",
    "                \"q\".replace(\"q\",\"j\")\n",
    "            elif i==\"r\":\n",
    "                \"r\".replace(\"r\",\"i\") \n",
    "            elif i==\"s\":\n",
    "                \"s\".replace(\"s\",\"h\")\n",
    "            elif i==\"t\":\n",
    "                \"t\".replace(\"t\",\"g\")            \n",
    "            elif i==\"u\":\n",
    "                \"u\".replace(\"u\",\"f\")            \n",
    "            elif i==\"v\":\n",
    "                \"v\".replace(\"v\",\"e\")    \n",
    "            elif i==\"w\":\n",
    "                \"w\".replace(\"w\",\"d\")\n",
    "            elif i==\"x\":\n",
    "                \"x\".replace(\"x\",\"c\")    \n",
    "            elif i==\"y\":\n",
    "                \"y\".replace(\"y\",\"b\") \n",
    "            elif i==\"z\":\n",
    "                \"z\".replace(\"z\",\"a\") \n",
    "        count=count+1\n",
    "    print(s)"
   ]
  },
  {
   "cell_type": "code",
   "execution_count": 10,
   "id": "ccdb314a-23ed-4404-aea7-b8ea716a7b5e",
   "metadata": {},
   "outputs": [
    {
     "name": "stdout",
     "output_type": "stream",
     "text": [
      "I want to become a Data Scientist.\n"
     ]
    }
   ],
   "source": [
    "s1= \"I want to become a Data Scientist.\"\n",
    "encryption(s1)"
   ]
  },
  {
   "cell_type": "code",
   "execution_count": null,
   "id": "59a776a7-2246-4bbb-883b-8c067d1066a9",
   "metadata": {},
   "outputs": [],
   "source": []
  }
 ],
 "metadata": {
  "kernelspec": {
   "display_name": "Python 3 (ipykernel)",
   "language": "python",
   "name": "python3"
  },
  "language_info": {
   "codemirror_mode": {
    "name": "ipython",
    "version": 3
   },
   "file_extension": ".py",
   "mimetype": "text/x-python",
   "name": "python",
   "nbconvert_exporter": "python",
   "pygments_lexer": "ipython3",
   "version": "3.10.8"
  }
 },
 "nbformat": 4,
 "nbformat_minor": 5
}
