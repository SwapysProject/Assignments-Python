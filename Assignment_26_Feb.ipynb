{
 "cells": [
  {
   "cell_type": "code",
   "execution_count": 16,
   "id": "beeebbd9-bdd9-4e6f-8645-bcbe653089b1",
   "metadata": {},
   "outputs": [],
   "source": [
    "import numpy as np\n",
    "\n",
    "list_ = ['1','2','3','4','5' ]\n",
    "\n",
    "array_list = np.array(object = list_)"
   ]
  },
  {
   "cell_type": "code",
   "execution_count": 17,
   "id": "accca9c9-aab3-4658-b6d6-39ecb6e1bfeb",
   "metadata": {},
   "outputs": [
    {
     "data": {
      "text/plain": [
       "array(['1', '2', '3', '4', '5'], dtype='<U1')"
      ]
     },
     "execution_count": 17,
     "metadata": {},
     "output_type": "execute_result"
    }
   ],
   "source": [
    "array_list"
   ]
  },
  {
   "cell_type": "code",
   "execution_count": 18,
   "id": "1dced75a-c13f-4762-9f44-04aa55cd6aa2",
   "metadata": {},
   "outputs": [],
   "source": [
    "#1 "
   ]
  },
  {
   "cell_type": "code",
   "execution_count": 19,
   "id": "71460a7b-f06d-4b71-942a-e401ced7a6fe",
   "metadata": {},
   "outputs": [
    {
     "data": {
      "text/plain": [
       "'They have different data types'"
      ]
     },
     "execution_count": 19,
     "metadata": {},
     "output_type": "execute_result"
    }
   ],
   "source": [
    "\"They have different data types\""
   ]
  },
  {
   "cell_type": "code",
   "execution_count": 20,
   "id": "c59eaa8c-9444-477c-8b78-0d578561fd91",
   "metadata": {},
   "outputs": [
    {
     "data": {
      "text/plain": [
       "dtype('<U1')"
      ]
     },
     "execution_count": 20,
     "metadata": {},
     "output_type": "execute_result"
    }
   ],
   "source": [
    "array_list.dtype"
   ]
  },
  {
   "cell_type": "code",
   "execution_count": 21,
   "id": "17eb0786-f9e3-4ed7-bdcd-f1ba769055a1",
   "metadata": {},
   "outputs": [
    {
     "data": {
      "text/plain": [
       "list"
      ]
     },
     "execution_count": 21,
     "metadata": {},
     "output_type": "execute_result"
    }
   ],
   "source": [
    "type(list_)"
   ]
  },
  {
   "cell_type": "code",
   "execution_count": null,
   "id": "c5cce545-bc60-45f7-a38b-bbbf62e55e33",
   "metadata": {},
   "outputs": [],
   "source": []
  },
  {
   "cell_type": "code",
   "execution_count": 22,
   "id": "ee8fb9c1-d79d-4869-a432-484ebc17872a",
   "metadata": {},
   "outputs": [],
   "source": [
    "#2 data type of each element in the variables list_ and array list"
   ]
  },
  {
   "cell_type": "code",
   "execution_count": 23,
   "id": "c171d294-a45e-46f5-a927-79a48cc8d947",
   "metadata": {},
   "outputs": [
    {
     "name": "stdout",
     "output_type": "stream",
     "text": [
      "<class 'str'>\n",
      "<class 'str'>\n",
      "<class 'str'>\n",
      "<class 'str'>\n",
      "<class 'str'>\n"
     ]
    }
   ],
   "source": [
    "for i in list_:\n",
    "    print(type(i))"
   ]
  },
  {
   "cell_type": "code",
   "execution_count": 24,
   "id": "c3302112-7403-48d2-a7ff-7ec7acc35404",
   "metadata": {},
   "outputs": [
    {
     "name": "stdout",
     "output_type": "stream",
     "text": [
      "<class 'numpy.str_'>\n",
      "<class 'numpy.str_'>\n",
      "<class 'numpy.str_'>\n",
      "<class 'numpy.str_'>\n",
      "<class 'numpy.str_'>\n"
     ]
    }
   ],
   "source": [
    "for i in array_list:\n",
    "    print(type(i))"
   ]
  },
  {
   "cell_type": "code",
   "execution_count": null,
   "id": "879b8b00-ce72-4717-938a-f5f200775d57",
   "metadata": {},
   "outputs": [],
   "source": []
  },
  {
   "cell_type": "code",
   "execution_count": 25,
   "id": "d3c2c677-1b61-4fee-b12c-1b76e7928c08",
   "metadata": {},
   "outputs": [],
   "source": [
    "array_list = np.array(object = list_, dtype = int)"
   ]
  },
  {
   "cell_type": "code",
   "execution_count": 26,
   "id": "054858fc-83aa-4c20-8725-9371600fdd9e",
   "metadata": {},
   "outputs": [],
   "source": [
    "#3  "
   ]
  },
  {
   "cell_type": "code",
   "execution_count": 27,
   "id": "214aa195-71a0-4428-a8a2-a99a5de9ff83",
   "metadata": {},
   "outputs": [
    {
     "data": {
      "text/plain": [
       "'Yes data type of each element in the array_list will change to integer from string'"
      ]
     },
     "execution_count": 27,
     "metadata": {},
     "output_type": "execute_result"
    }
   ],
   "source": [
    "\"Yes data type of each element in the array_list will change to integer from string\""
   ]
  },
  {
   "cell_type": "code",
   "execution_count": 28,
   "id": "71c54df4-91e9-4df7-ac25-05b55f13d4d6",
   "metadata": {},
   "outputs": [
    {
     "name": "stdout",
     "output_type": "stream",
     "text": [
      "<class 'numpy.int64'>\n",
      "<class 'numpy.int64'>\n",
      "<class 'numpy.int64'>\n",
      "<class 'numpy.int64'>\n",
      "<class 'numpy.int64'>\n"
     ]
    }
   ],
   "source": [
    "for i in array_list:\n",
    "    print(type(i))"
   ]
  },
  {
   "cell_type": "code",
   "execution_count": 29,
   "id": "864adb9a-1aff-483f-98ef-1f31952019ed",
   "metadata": {},
   "outputs": [],
   "source": [
    "import numpy as np\n",
    "\n",
    "num_list = [ [ 1 , 2 , 3 ] , [ 4 , 5 , 6 ] ]\n",
    "\n",
    "num_array = np.array(object = num_list)"
   ]
  },
  {
   "cell_type": "code",
   "execution_count": null,
   "id": "58fe7873-2a08-402f-a5e1-4d1e7550e9bd",
   "metadata": {},
   "outputs": [],
   "source": []
  },
  {
   "cell_type": "code",
   "execution_count": 30,
   "id": "50393bc0-90cc-4024-bd1d-130e7466a8e6",
   "metadata": {},
   "outputs": [],
   "source": [
    "#4  Finding the shape and size of the variable"
   ]
  },
  {
   "cell_type": "code",
   "execution_count": 31,
   "id": "60f604e8-1f88-43b3-9961-033e07122019",
   "metadata": {},
   "outputs": [
    {
     "data": {
      "text/plain": [
       "(2, 3)"
      ]
     },
     "execution_count": 31,
     "metadata": {},
     "output_type": "execute_result"
    }
   ],
   "source": [
    "num_array.shape"
   ]
  },
  {
   "cell_type": "code",
   "execution_count": 32,
   "id": "cda1f013-fa46-404a-9bc2-90ba5bd61bfa",
   "metadata": {},
   "outputs": [
    {
     "data": {
      "text/plain": [
       "6"
      ]
     },
     "execution_count": 32,
     "metadata": {},
     "output_type": "execute_result"
    }
   ],
   "source": [
    "num_array.size"
   ]
  },
  {
   "cell_type": "code",
   "execution_count": null,
   "id": "3d619a60-0549-4e60-ab6f-ed19a19ba593",
   "metadata": {},
   "outputs": [],
   "source": []
  },
  {
   "cell_type": "code",
   "execution_count": 33,
   "id": "dd76badd-fb6e-420d-a657-7c42bb736abe",
   "metadata": {},
   "outputs": [],
   "source": [
    "#5  creation of matrix with all elements are zeros"
   ]
  },
  {
   "cell_type": "code",
   "execution_count": 34,
   "id": "f62791b3-d26e-4a25-a6e8-3a398405a851",
   "metadata": {},
   "outputs": [],
   "source": [
    "arr = np.zeros((3,3))"
   ]
  },
  {
   "cell_type": "code",
   "execution_count": 35,
   "id": "489b2325-eecc-476c-aa6e-f6cff586b331",
   "metadata": {},
   "outputs": [
    {
     "data": {
      "text/plain": [
       "array([[0., 0., 0.],\n",
       "       [0., 0., 0.],\n",
       "       [0., 0., 0.]])"
      ]
     },
     "execution_count": 35,
     "metadata": {},
     "output_type": "execute_result"
    }
   ],
   "source": [
    "arr"
   ]
  },
  {
   "cell_type": "code",
   "execution_count": 36,
   "id": "a0e88be4-22c9-45b5-8c72-36775c7aeb7c",
   "metadata": {},
   "outputs": [
    {
     "data": {
      "text/plain": [
       "9"
      ]
     },
     "execution_count": 36,
     "metadata": {},
     "output_type": "execute_result"
    }
   ],
   "source": [
    "arr.size"
   ]
  },
  {
   "cell_type": "code",
   "execution_count": 37,
   "id": "922e5d97-43c3-4454-8efb-a85b1de0cb7f",
   "metadata": {},
   "outputs": [
    {
     "data": {
      "text/plain": [
       "(3, 3)"
      ]
     },
     "execution_count": 37,
     "metadata": {},
     "output_type": "execute_result"
    }
   ],
   "source": [
    "arr.shape"
   ]
  },
  {
   "cell_type": "code",
   "execution_count": null,
   "id": "83ddf63d-9c4b-49a2-b52c-3f1137bc6b77",
   "metadata": {},
   "outputs": [],
   "source": []
  },
  {
   "cell_type": "code",
   "execution_count": 38,
   "id": "b7646a5b-758c-403b-97ee-48aa48af6780",
   "metadata": {},
   "outputs": [],
   "source": [
    "#6 creation of identity matrix"
   ]
  },
  {
   "cell_type": "code",
   "execution_count": 39,
   "id": "fb00337a-d576-4938-bcb1-2dc953f3414e",
   "metadata": {},
   "outputs": [],
   "source": [
    "arr2= np.eye(5)"
   ]
  },
  {
   "cell_type": "code",
   "execution_count": 40,
   "id": "858c2735-1fb1-444c-a990-53155c44b0b6",
   "metadata": {},
   "outputs": [
    {
     "data": {
      "text/plain": [
       "array([[1., 0., 0., 0., 0.],\n",
       "       [0., 1., 0., 0., 0.],\n",
       "       [0., 0., 1., 0., 0.],\n",
       "       [0., 0., 0., 1., 0.],\n",
       "       [0., 0., 0., 0., 1.]])"
      ]
     },
     "execution_count": 40,
     "metadata": {},
     "output_type": "execute_result"
    }
   ],
   "source": [
    "arr2"
   ]
  },
  {
   "cell_type": "code",
   "execution_count": null,
   "id": "7f54ad1b-c44f-40f8-ae42-01e374a767ff",
   "metadata": {},
   "outputs": [],
   "source": []
  }
 ],
 "metadata": {
  "kernelspec": {
   "display_name": "Python 3 (ipykernel)",
   "language": "python",
   "name": "python3"
  },
  "language_info": {
   "codemirror_mode": {
    "name": "ipython",
    "version": 3
   },
   "file_extension": ".py",
   "mimetype": "text/x-python",
   "name": "python",
   "nbconvert_exporter": "python",
   "pygments_lexer": "ipython3",
   "version": "3.10.8"
  }
 },
 "nbformat": 4,
 "nbformat_minor": 5
}
