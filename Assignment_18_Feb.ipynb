{
 "cells": [
  {
   "cell_type": "code",
   "execution_count": 1,
   "id": "65ce1000-039f-4b04-97da-752d47536c29",
   "metadata": {},
   "outputs": [],
   "source": [
    "#1  What is an API? Give an example, where an API is used in real life?"
   ]
  },
  {
   "cell_type": "code",
   "execution_count": 3,
   "id": "cd9e24b4-aebe-41a9-b5a2-926cf56fc38d",
   "metadata": {},
   "outputs": [],
   "source": [
    "#API is application programming interface. Simple example where the API is used is in the Google account sign in where you fill your gmailid and its password#"
   ]
  },
  {
   "cell_type": "code",
   "execution_count": null,
   "id": "3ed7fd40-36ee-45a2-abde-6c566e3e0cc5",
   "metadata": {},
   "outputs": [],
   "source": []
  },
  {
   "cell_type": "code",
   "execution_count": 4,
   "id": "f2fbf3bb-4e08-4f9d-aa80-30b90ffc32ca",
   "metadata": {},
   "outputs": [],
   "source": [
    "#2 Give advantages and disadvantages of using API. "
   ]
  },
  {
   "cell_type": "code",
   "execution_count": 5,
   "id": "d587b4ac-e1a4-40ef-a035-061cc9d80d6d",
   "metadata": {},
   "outputs": [],
   "source": [
    "#advantages:  1) No More Drowning in Details 2) Simplifying Unnecessary Complexities for Speed\n",
    "#disadvantages: 1) More Generation = Loss of Control. 2) But it’s Not as Efficient! "
   ]
  },
  {
   "cell_type": "code",
   "execution_count": null,
   "id": "92f74667-2afa-44d4-9668-a0df311c4e90",
   "metadata": {},
   "outputs": [],
   "source": []
  },
  {
   "cell_type": "code",
   "execution_count": 6,
   "id": "f72044df-6e87-4d7e-a680-c121a6c8fd47",
   "metadata": {},
   "outputs": [],
   "source": [
    "#3 What is a Web API? Differentiate between API and Web API."
   ]
  },
  {
   "cell_type": "code",
   "execution_count": 1,
   "id": "f293311b-6665-498b-ba8f-b4f331c49ab8",
   "metadata": {},
   "outputs": [],
   "source": [
    "#Web API as the name suggests, is an API over the web which can be accessed using HTTP protocol. It is a concept and not a technology. We can build Web API using different technologies such as Java, .NET etc.\n",
    "#Web API is a subset of the API."
   ]
  },
  {
   "cell_type": "code",
   "execution_count": null,
   "id": "0bb5b55a-f4f0-4962-81c4-27ab81cfdeda",
   "metadata": {},
   "outputs": [],
   "source": []
  },
  {
   "cell_type": "code",
   "execution_count": 2,
   "id": "048a5154-228e-4eb4-9f3b-9caed079583f",
   "metadata": {},
   "outputs": [],
   "source": [
    "#4  Explain REST and SOAP Architecture. Mention shortcomings of SOAP."
   ]
  },
  {
   "cell_type": "code",
   "execution_count": 4,
   "id": "0519786a-4f77-4fd7-98c2-3c780fd3f9ae",
   "metadata": {},
   "outputs": [],
   "source": [
    "#REST services:  REST, on the other hand, is an architectural style, not a protocol. As stated above, it stands for Representational State Transfer. That means, when a client requests a resource using a REST API, the server transfers back the current state of the resource in a standardized representation.\n",
    "#SOAP architecture: SOAP is a standard communication protocol system that uses XML technologies to define an extensive messaging framework that allows structured information to be exchanged in a decentralized, distributed environment. "
   ]
  },
  {
   "cell_type": "code",
   "execution_count": null,
   "id": "d32b8832-e0a1-410a-8e41-031266145edb",
   "metadata": {},
   "outputs": [],
   "source": []
  },
  {
   "cell_type": "code",
   "execution_count": 5,
   "id": "c52bd4e7-7734-4355-b951-f1f8ccdcc21d",
   "metadata": {},
   "outputs": [],
   "source": [
    "#5 5. Differentiate between REST and SOAP"
   ]
  },
  {
   "cell_type": "code",
   "execution_count": 7,
   "id": "9d3054d4-29b6-4b10-8661-37e3f745343a",
   "metadata": {},
   "outputs": [],
   "source": [
    "#REST: REST is an architectural style. \n",
    "       #REST can use SOAP web services because it is a concept and can use any protocol like HTTP, SOAP."
   ]
  },
  {
   "cell_type": "code",
   "execution_count": 8,
   "id": "06c48962-59e8-465b-89c8-ffa824d5c5fa",
   "metadata": {},
   "outputs": [],
   "source": [
    "#SOAP: SOAP is a protocol.\n",
    "       #SOAP can't use REST because it is a protocol."
   ]
  },
  {
   "cell_type": "code",
   "execution_count": null,
   "id": "61251787-91a2-4044-9e12-8946c7b5323c",
   "metadata": {},
   "outputs": [],
   "source": []
  }
 ],
 "metadata": {
  "kernelspec": {
   "display_name": "Python 3 (ipykernel)",
   "language": "python",
   "name": "python3"
  },
  "language_info": {
   "codemirror_mode": {
    "name": "ipython",
    "version": 3
   },
   "file_extension": ".py",
   "mimetype": "text/x-python",
   "name": "python",
   "nbconvert_exporter": "python",
   "pygments_lexer": "ipython3",
   "version": "3.10.8"
  }
 },
 "nbformat": 4,
 "nbformat_minor": 5
}
