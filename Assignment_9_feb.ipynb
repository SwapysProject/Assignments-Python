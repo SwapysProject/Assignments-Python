{
 "cells": [
  {
   "cell_type": "code",
   "execution_count": 1,
   "id": "58df4111-bc9e-4ace-b58f-428b3c450076",
   "metadata": {},
   "outputs": [],
   "source": [
    "#1\n",
    "class vehicle:\n",
    "    def __init__(self,a,b,c):\n",
    "        self.name_of_vehicle=a\n",
    "        self.max_speed=b\n",
    "        self.average_of_vehicle=c                 "
   ]
  },
  {
   "cell_type": "code",
   "execution_count": 5,
   "id": "49669968-09f3-4655-8a3f-2e98cba1c1ad",
   "metadata": {},
   "outputs": [],
   "source": [
    "class_obj=vehicle(\"tesla\",250,70)"
   ]
  },
  {
   "cell_type": "code",
   "execution_count": 7,
   "id": "4e44859d-a4f6-404b-adcd-26edf39b6513",
   "metadata": {},
   "outputs": [
    {
     "data": {
      "text/plain": [
       "'250'"
      ]
     },
     "execution_count": 7,
     "metadata": {},
     "output_type": "execute_result"
    }
   ],
   "source": [
    "class_obj.max_speed"
   ]
  },
  {
   "cell_type": "code",
   "execution_count": 29,
   "id": "0f7ccf2d-2b76-486b-840a-c2e7e32b6a1c",
   "metadata": {},
   "outputs": [],
   "source": [
    "#2\n",
    "class child_vehicle(vehicle):\n",
    "    def __init__(self,capacity):\n",
    "        self.capacity=capacity\n",
    "        print(self.capacity)"
   ]
  },
  {
   "cell_type": "code",
   "execution_count": 30,
   "id": "ad32efcf-0260-487f-8898-5954b06be2c6",
   "metadata": {},
   "outputs": [
    {
     "name": "stdout",
     "output_type": "stream",
     "text": [
      "4\n"
     ]
    }
   ],
   "source": [
    "class_obj=child_vehicle(4)"
   ]
  },
  {
   "cell_type": "code",
   "execution_count": null,
   "id": "5c8b8234-7bf5-4205-a644-2b22650d7881",
   "metadata": {},
   "outputs": [],
   "source": []
  },
  {
   "cell_type": "code",
   "execution_count": 14,
   "id": "03be92d7-dd51-4329-a7fd-b5e3a5494fd9",
   "metadata": {},
   "outputs": [],
   "source": [
    "#3 multiple inheritance:  Multiple inheritance is a feature of some object-oriented computer programming languages in which an object or class can inherit features from more than one parent object or parent class."
   ]
  },
  {
   "cell_type": "code",
   "execution_count": 15,
   "id": "8b9db533-8d14-4a36-9016-b1adbadaa3ae",
   "metadata": {},
   "outputs": [],
   "source": [
    "#multiple inheritane example\n",
    "\n",
    "class class1():\n",
    "    def test1(self):\n",
    "        return \"this is my first class\"\n",
    "class class2():\n",
    "    def test2(self):\n",
    "        return \"this is my second class\"\n",
    "class class3(class1,class2):\n",
    "    pass"
   ]
  },
  {
   "cell_type": "code",
   "execution_count": 16,
   "id": "2da44fec-181e-453a-ab5f-628bddc6d92b",
   "metadata": {},
   "outputs": [],
   "source": [
    "obj_class3=class3()"
   ]
  },
  {
   "cell_type": "code",
   "execution_count": 17,
   "id": "858d65a2-23fd-47e7-9ddf-0587dfc857e7",
   "metadata": {},
   "outputs": [
    {
     "data": {
      "text/plain": [
       "'this is my second class'"
      ]
     },
     "execution_count": 17,
     "metadata": {},
     "output_type": "execute_result"
    }
   ],
   "source": [
    "obj_class3.test2()"
   ]
  },
  {
   "cell_type": "code",
   "execution_count": 18,
   "id": "fabf1347-6bef-4bbb-8cc7-f6fbbe105a5e",
   "metadata": {},
   "outputs": [],
   "source": [
    "#4  Getters and Setters in python are often used when:\n",
    "\"\"\"We use getters & setters to add validation logic around getting and setting a value.\n",
    "To avoid direct access of a class field i.e. private variables cannot be accessed directly or modified by external user.\"\"\""
   ]
  },
  {
   "cell_type": "code",
   "execution_count": 21,
   "id": "727beffd-28f4-478c-98c1-894b27f1d762",
   "metadata": {},
   "outputs": [
    {
     "name": "stdout",
     "output_type": "stream",
     "text": [
      "21\n"
     ]
    }
   ],
   "source": [
    "class swapy:\n",
    "    def __init__(self, age = 0):\n",
    "         self._age = age\n",
    "      \n",
    "    # getter method\n",
    "    def get_age(self):\n",
    "        return self._age\n",
    "      \n",
    "    # setter method\n",
    "    def set_age(self, x):\n",
    "        self._age = x  \n",
    "obj = swapy()\n",
    "obj.set_age(21)\n",
    "print(obj.get_age())"
   ]
  },
  {
   "cell_type": "code",
   "execution_count": 22,
   "id": "be2f6651-5c9f-4e0c-aa9f-f54afce729fa",
   "metadata": {},
   "outputs": [],
   "source": [
    "#5Method overriding in Python is when you have two methods with the same name that each perform different tasks"
   ]
  },
  {
   "cell_type": "code",
   "execution_count": 24,
   "id": "468d288c-c804-4cb1-a560-fe5fca017b40",
   "metadata": {},
   "outputs": [],
   "source": [
    "class data_science():\n",
    "    def syllabus():\n",
    "        print(\"this is my class of data science\")\n",
    "class web_dev():\n",
    "    def syllabus():\n",
    "        print(\"this is my class of web dev\")\n",
    "def swapy(l):\n",
    "    for i in l:\n",
    "        i.syllabus()    "
   ]
  },
  {
   "cell_type": "code",
   "execution_count": 25,
   "id": "ccc9e001-5d5b-4a78-b0cd-c669b7101462",
   "metadata": {},
   "outputs": [
    {
     "name": "stdout",
     "output_type": "stream",
     "text": [
      "this is my class of data science\n",
      "this is my class of web dev\n"
     ]
    }
   ],
   "source": [
    "l1=[data_science, web_dev]\n",
    "swapy(l1)"
   ]
  },
  {
   "cell_type": "code",
   "execution_count": null,
   "id": "e70b9cf9-1dce-47d4-9d5b-66f45d9279e3",
   "metadata": {},
   "outputs": [],
   "source": []
  }
 ],
 "metadata": {
  "kernelspec": {
   "display_name": "Python 3 (ipykernel)",
   "language": "python",
   "name": "python3"
  },
  "language_info": {
   "codemirror_mode": {
    "name": "ipython",
    "version": 3
   },
   "file_extension": ".py",
   "mimetype": "text/x-python",
   "name": "python",
   "nbconvert_exporter": "python",
   "pygments_lexer": "ipython3",
   "version": "3.10.8"
  }
 },
 "nbformat": 4,
 "nbformat_minor": 5
}
