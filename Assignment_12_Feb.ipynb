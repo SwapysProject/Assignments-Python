{
 "cells": [
  {
   "cell_type": "code",
   "execution_count": 1,
   "id": "6f95f2db-14ac-42d7-8482-3dd8d531b58e",
   "metadata": {},
   "outputs": [],
   "source": [
    "#Q1. What is an Exception in python? Write the difference between Exceptions and Syntax errors."
   ]
  },
  {
   "cell_type": "code",
   "execution_count": 2,
   "id": "1d254313-3289-46e9-898e-8459595d831d",
   "metadata": {},
   "outputs": [],
   "source": [
    "#An exception is an event, which occurs during the execution of a program that disrupts the normal flow of the program's instructions. In general, when a Python script encounters a situation that it cannot cope with, it raises an exception. An exception is a Python object that represents an error."
   ]
  },
  {
   "cell_type": "code",
   "execution_count": 3,
   "id": "3682b1ab-ab69-4ff0-9914-6d9f1e4b698c",
   "metadata": {},
   "outputs": [],
   "source": [
    "#Syntax error is caused by (or at least detected at) the token preceding the arrow: in the example, the error is detected at the keyword print, since a colon (‘:’) is missing before it."
   ]
  },
  {
   "cell_type": "code",
   "execution_count": 4,
   "id": "0c35819e-5bd5-474b-bcbe-040f776171fd",
   "metadata": {},
   "outputs": [],
   "source": [
    "#Even if a statement or expression is syntactically correct, it may cause an error when an attempt is made to execute it.\n",
    "\n",
    "#Errors detected during execution are called exceptions."
   ]
  },
  {
   "cell_type": "code",
   "execution_count": null,
   "id": "328ecd51-091a-46d6-8adf-264a633ceeac",
   "metadata": {},
   "outputs": [],
   "source": []
  },
  {
   "cell_type": "code",
   "execution_count": 5,
   "id": "6bbfe9ed-a454-4f19-a772-eb0006b5d3d6",
   "metadata": {},
   "outputs": [],
   "source": [
    "#Q2.What happens when an exception is not handled? explain with one example."
   ]
  },
  {
   "cell_type": "code",
   "execution_count": 6,
   "id": "4244bb8a-22a1-4a0b-bd35-e4962ab6eb9d",
   "metadata": {},
   "outputs": [],
   "source": [
    "#when an exception is not handled then except block is executed. let us take an example."
   ]
  },
  {
   "cell_type": "code",
   "execution_count": 9,
   "id": "e75e4c27-0e55-4bb6-a2fc-e2007017db86",
   "metadata": {},
   "outputs": [
    {
     "name": "stdout",
     "output_type": "stream",
     "text": [
      "This is my error [Errno 2] No such file or directory: 'ex.test6'\n"
     ]
    }
   ],
   "source": [
    "try:\n",
    "    f=open(\"ex.test6\",\"r\")\n",
    "except Exception as e:\n",
    "    print(\"This is my error\",e)    "
   ]
  },
  {
   "cell_type": "code",
   "execution_count": null,
   "id": "057c8a23-64a4-4877-9b84-2e206e3ef661",
   "metadata": {},
   "outputs": [],
   "source": []
  },
  {
   "cell_type": "code",
   "execution_count": 10,
   "id": "cb12bcd7-f7cc-4874-beca-7c8b48f36e00",
   "metadata": {},
   "outputs": [],
   "source": [
    "#Q3. Which python statements are used to catch and handled exceptions? Explain with an example."
   ]
  },
  {
   "cell_type": "code",
   "execution_count": 12,
   "id": "28f51844-db7e-4c13-96a0-30e7f717af91",
   "metadata": {},
   "outputs": [],
   "source": [
    "#\"try,except,else,finally are these statements are used to catch and handled an exceptions.\""
   ]
  },
  {
   "cell_type": "code",
   "execution_count": 13,
   "id": "8b52c38d-48a5-4cc5-bc28-515a9e354c13",
   "metadata": {},
   "outputs": [
    {
     "name": "stdout",
     "output_type": "stream",
     "text": [
      "thus there is no error in my code\n",
      "thus finally completed\n"
     ]
    }
   ],
   "source": [
    "#example\n",
    "\n",
    "try:\n",
    "    f=open(\"ex.test1\",\"w\")\n",
    "    f.write(\"i am wrting something in the new file\")\n",
    "except Exception as e:\n",
    "    print(\"This is my error\",e)   \n",
    "else:\n",
    "    print(\"thus there is no error in my code\")\n",
    "finally:\n",
    "    print(\"thus finally completed\")"
   ]
  },
  {
   "cell_type": "code",
   "execution_count": 14,
   "id": "e28942ca-a412-45de-8979-e96afdf9c163",
   "metadata": {},
   "outputs": [
    {
     "name": "stdout",
     "output_type": "stream",
     "text": [
      "This is my error not writable\n",
      "thus finally completed\n"
     ]
    }
   ],
   "source": [
    "try:\n",
    "    f=open(\"ex.test1\",\"r\")\n",
    "    f.write(\"i am wrting something in the new file\")\n",
    "except Exception as e:\n",
    "    print(\"This is my error\",e)  \n",
    "finally:\n",
    "    print(\"thus finally completed\")"
   ]
  },
  {
   "cell_type": "code",
   "execution_count": null,
   "id": "523b9093-46f8-43d8-b4d6-b47eb4c73f95",
   "metadata": {},
   "outputs": [],
   "source": []
  },
  {
   "cell_type": "code",
   "execution_count": 15,
   "id": "fd2de67b-a053-4037-885f-834a0f08d2e4",
   "metadata": {},
   "outputs": [],
   "source": [
    "#Q4. Explain with an example."
   ]
  },
  {
   "cell_type": "code",
   "execution_count": 16,
   "id": "07f0f15c-fd1b-4cee-b086-62cc6eae6913",
   "metadata": {},
   "outputs": [
    {
     "name": "stdout",
     "output_type": "stream",
     "text": [
      "thus there is no error in my code\n"
     ]
    }
   ],
   "source": [
    "#try and else\n",
    "\n",
    "try:\n",
    "    f=open(\"ex.test1\",\"w\")\n",
    "    f.write(\"i am wrting something in the new file\")\n",
    "except Exception as e:\n",
    "    print(\"This is my error\",e)   \n",
    "else:\n",
    "    print(\"thus there is no error in my code\")"
   ]
  },
  {
   "cell_type": "code",
   "execution_count": 17,
   "id": "6d50d5f2-ced1-4b9f-a472-997ddeded3ca",
   "metadata": {},
   "outputs": [
    {
     "name": "stdout",
     "output_type": "stream",
     "text": [
      "This is my error not writable\n",
      "thus finally completed\n"
     ]
    }
   ],
   "source": [
    "#finally\n",
    "\n",
    "try:\n",
    "    f=open(\"ex.test1\",\"r\")\n",
    "    f.write(\"i am wrting something in the new file\")\n",
    "except Exception as e:\n",
    "    print(\"This is my error\",e)  \n",
    "finally:\n",
    "    print(\"thus finally completed\")"
   ]
  },
  {
   "cell_type": "code",
   "execution_count": 18,
   "id": "19af9a57-0866-404f-883a-f39f19526ae7",
   "metadata": {},
   "outputs": [
    {
     "name": "stdin",
     "output_type": "stream",
     "text": [
      "enter your age 657\n"
     ]
    },
    {
     "name": "stdout",
     "output_type": "stream",
     "text": [
      "entered age is very very high\n"
     ]
    }
   ],
   "source": [
    "#raise\n",
    "\n",
    "class validateage(Exception):\n",
    "    \n",
    "    def __init__(self,msg):\n",
    "        self.msg=msg\n",
    "\n",
    "def validate_age(age):\n",
    "    if age<0:\n",
    "        raise validateage(\"enter age is negative\")\n",
    "    elif age>200:\n",
    "        raise validateage(\"entered age is very very high\")\n",
    "    else:\n",
    "        print(\"entered age is valid\")\n",
    "try:\n",
    "    age=int(input(\"enter your age\"))\n",
    "    validate_age(age)\n",
    "except validateage as e:\n",
    "    print(e)    "
   ]
  },
  {
   "cell_type": "code",
   "execution_count": null,
   "id": "f9fad5a1-e5ca-4764-996f-32a75536a799",
   "metadata": {},
   "outputs": [],
   "source": []
  },
  {
   "cell_type": "code",
   "execution_count": 19,
   "id": "4f259346-a10a-42cb-8db6-ae3ac8aae253",
   "metadata": {},
   "outputs": [],
   "source": [
    "#Q5. What are custom exceptions in python? why do we need custom exceptions? explain with an example."
   ]
  },
  {
   "cell_type": "code",
   "execution_count": 20,
   "id": "3d33db49-2b37-4b2c-a39b-2112786a4396",
   "metadata": {},
   "outputs": [],
   "source": [
    "#Python provides a lot of built-in exception classes that outputs an error when something in your code goes wrong. The error classes can also be used to handle those specific exceptions using try-except blocks."
   ]
  },
  {
   "cell_type": "code",
   "execution_count": 21,
   "id": "bf0e6707-94bc-4061-be1a-4b9b7acfad37",
   "metadata": {},
   "outputs": [
    {
     "name": "stdout",
     "output_type": "stream",
     "text": [
      "This is my custom exception\n"
     ]
    }
   ],
   "source": [
    "class CustomException(Exception):\n",
    "    \"\"\" my custom exception class \"\"\"\n",
    "\n",
    "\n",
    "try:\n",
    "    raise CustomException('This is my custom exception')\n",
    "except CustomException as ex:\n",
    "    print(ex)"
   ]
  },
  {
   "cell_type": "code",
   "execution_count": null,
   "id": "63b95094-564a-4f20-85b8-9460f18252fb",
   "metadata": {},
   "outputs": [],
   "source": []
  },
  {
   "cell_type": "code",
   "execution_count": 22,
   "id": "983eeaf9-790f-4d5b-b4f1-388677b3a042",
   "metadata": {},
   "outputs": [],
   "source": [
    "#Q6. create a custom exception class. use this class to handle an exception."
   ]
  },
  {
   "cell_type": "code",
   "execution_count": 23,
   "id": "6f5706f4-edba-4375-88d0-d263e1c28f64",
   "metadata": {},
   "outputs": [
    {
     "name": "stdin",
     "output_type": "stream",
     "text": [
      "enter your age -87\n"
     ]
    },
    {
     "name": "stdout",
     "output_type": "stream",
     "text": [
      "enter age is negative\n"
     ]
    }
   ],
   "source": [
    "class validateage(Exception):\n",
    "    \n",
    "    def __init__(self,msg):\n",
    "        self.msg=msg\n",
    "\n",
    "def validate_age(age):\n",
    "    if age<0:\n",
    "        raise validateage(\"enter age is negative\")\n",
    "    elif age>200:\n",
    "        raise validateage(\"entered age is very very high\")\n",
    "    else:\n",
    "        print(\"entered age is valid\")\n",
    "try:\n",
    "    age=int(input(\"enter your age\"))\n",
    "    validate_age(age)\n",
    "except validateage as e:\n",
    "    print(e)    "
   ]
  },
  {
   "cell_type": "code",
   "execution_count": null,
   "id": "266cc1da-df71-4387-9608-b68e9eb94168",
   "metadata": {},
   "outputs": [],
   "source": []
  }
 ],
 "metadata": {
  "kernelspec": {
   "display_name": "Python 3 (ipykernel)",
   "language": "python",
   "name": "python3"
  },
  "language_info": {
   "codemirror_mode": {
    "name": "ipython",
    "version": 3
   },
   "file_extension": ".py",
   "mimetype": "text/x-python",
   "name": "python",
   "nbconvert_exporter": "python",
   "pygments_lexer": "ipython3",
   "version": "3.10.8"
  }
 },
 "nbformat": 4,
 "nbformat_minor": 5
}
