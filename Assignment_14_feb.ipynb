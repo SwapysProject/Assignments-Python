{
 "cells": [
  {
   "cell_type": "code",
   "execution_count": 1,
   "id": "0efcd0b4-0341-4568-8123-7a05baf75af3",
   "metadata": {},
   "outputs": [],
   "source": [
    "#1 \n",
    "#Multithreading is the ability of a program or an operating system to enable more than one user at a time without requiring multiple copies of the program running on the computer. Multithreading can also handle various requests from the same user. Each user request for a program or system service is tracked as a thread with a separate identity. As programs work on behalf of the initial thread request and are interrupted by other demands, the work status of the initial request is tracked until the work is completed. In this context, a user can also be another program.\n",
    "#\"threading\" module is used in mutltthreading"
   ]
  },
  {
   "cell_type": "code",
   "execution_count": 3,
   "id": "f5c043bd-e039-4a2f-9f40-680b868f8256",
   "metadata": {},
   "outputs": [],
   "source": [
    "#2\n",
    "#The newer threading module included with Python 2.4 provides much more powerful, high-level support for threads\n",
    "#threading.activeCount() − Returns the number of thread objects that are active.\n",
    "#threading.currentThread() − Returns the number of thread objects in the caller's thread control.\n",
    "#threading.enumerate() − Returns a list of all thread objects that are currently active."
   ]
  },
  {
   "cell_type": "code",
   "execution_count": 4,
   "id": "20689896-65f7-45ff-85de-75dd37ffe6c5",
   "metadata": {},
   "outputs": [],
   "source": [
    "#3\n",
    "#run()  − The run() method is the entry point for a thread.\n",
    "#start()  − The start() method starts a thread by calling the run method.\n",
    "#join([time])  − The join() waits for threads to terminate.\n",
    "#isAlive()  − The isAlive() method checks whether a thread is still executing."
   ]
  },
  {
   "cell_type": "code",
   "execution_count": 3,
   "id": "a54a41ec-1423-4175-938e-714b54b8653c",
   "metadata": {},
   "outputs": [
    {
     "name": "stdout",
     "output_type": "stream",
     "text": [
      "The Square of 0 is 0\n",
      "The Square of 1 is 1\n",
      "The Square of 2 is 4\n",
      "The Square of 3 is 9\n",
      "The Square of 4 is 16\n",
      "The Square of 5 is 25\n",
      "The Square of 6 is 36\n",
      "The Square of 7 is 49\n",
      "The Square of 8 is 64\n",
      "The Square of 9 is 81\n",
      "The cube of 0 is 0\n",
      "The cube of 1 is 1\n",
      "The cube of 2 is 8\n",
      "The cube of 3 is 27\n",
      "The cube of 4 is 64\n",
      "The cube of 5 is 125\n",
      "The cube of 6 is 216\n",
      "The cube of 7 is 343\n",
      "The cube of 8 is 512\n",
      "The cube of 9 is 729\n"
     ]
    }
   ],
   "source": [
    "#4   write a python program to create two threads. Thread one must print the list of squares and thread two must print the list of cubes\n",
    "\n",
    "import threading\n",
    "\n",
    "def swapy1():\n",
    "    for i in range(10):\n",
    "        s=i**2\n",
    "        print(\"The Square of %d is %d\" %(i,s))\n",
    "def swapy2():\n",
    "    for i in range(10):\n",
    "        s=i**3\n",
    "        print(\"The cube of %d is %d\" %(i,s))\n",
    "Thread1=threading.Thread(target=swapy1)\n",
    "Thread2=threading.Thread(target=swapy2)\n",
    "Thread1.start()\n",
    "Thread2.start()"
   ]
  },
  {
   "cell_type": "code",
   "execution_count": 4,
   "id": "e471d341-fcb0-409b-8da4-5862fe0e403b",
   "metadata": {},
   "outputs": [],
   "source": [
    "#5 \n",
    "\n",
    "#advantage: \n",
    "#Improved performance and concurrency\n",
    "#Simultaneous access to multiple applications\n",
    "#Reduced number of required servers\n",
    "\n",
    "#disadvantage:\n",
    "#Difficulty of writing code\n",
    "#Difficulty of testing\n",
    "#Difficulty of porting existing code"
   ]
  },
  {
   "cell_type": "code",
   "execution_count": null,
   "id": "5a0bdecb-dc84-4505-ae33-2f3e08846657",
   "metadata": {},
   "outputs": [],
   "source": [
    "#6\n",
    "\n",
    "#race condition\n",
    "#When two processes are competing with each other causing data corruption.It is very common for the race conditions to go unnoticed during testing even after multiple tests and code reviews. But in production, there would be a lot of processes and threads working parallelly and compete for the same resources, and this problem would occur\n",
    "\n",
    "#deadlocks\n",
    "#When two processes are waiting for each other directly or indirectly, it is called deadlock.\n",
    "#This usually occurs when two processes are waiting for shared resources acquired by others"
   ]
  }
 ],
 "metadata": {
  "kernelspec": {
   "display_name": "Python 3 (ipykernel)",
   "language": "python",
   "name": "python3"
  },
  "language_info": {
   "codemirror_mode": {
    "name": "ipython",
    "version": 3
   },
   "file_extension": ".py",
   "mimetype": "text/x-python",
   "name": "python",
   "nbconvert_exporter": "python",
   "pygments_lexer": "ipython3",
   "version": "3.10.8"
  }
 },
 "nbformat": 4,
 "nbformat_minor": 5
}
