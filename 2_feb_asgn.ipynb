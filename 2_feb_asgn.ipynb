{
 "cells": [
  {
   "cell_type": "code",
   "execution_count": 1,
   "id": "dc2c73f7-30d7-4c43-97a6-485efb53e6b0",
   "metadata": {},
   "outputs": [
    {
     "data": {
      "text/plain": [
       "'With the while loop we can execute a set of statements as long as a condition is true.\\nFor loops are used for sequential traversal.'"
      ]
     },
     "execution_count": 1,
     "metadata": {},
     "output_type": "execute_result"
    }
   ],
   "source": [
    "#1 when to use for loop and while loop\n",
    "\"\"\"With the while loop we can execute a set of statements as long as a condition is true.\n",
    "For loops are used for sequential traversal.\"\"\""
   ]
  },
  {
   "cell_type": "code",
   "execution_count": 2,
   "id": "ba8d0ca9-3306-4803-8f11-6b8a8a1daf35",
   "metadata": {},
   "outputs": [
    {
     "name": "stdin",
     "output_type": "stream",
     "text": [
      "enter the number 5\n"
     ]
    },
    {
     "name": "stdout",
     "output_type": "stream",
     "text": [
      "*****"
     ]
    }
   ],
   "source": [
    "#example of while loop\n",
    "n=int(input(\"enter the number\"))\n",
    "i=1\n",
    "while i<=n:\n",
    "    print(\"*\",end=\"\")\n",
    "    i+=1"
   ]
  },
  {
   "cell_type": "code",
   "execution_count": 4,
   "id": "cceeebe4-1bd2-4dba-8a2c-6f19ae49fea6",
   "metadata": {},
   "outputs": [
    {
     "name": "stdout",
     "output_type": "stream",
     "text": [
      "1\n",
      "3\n",
      "53\n",
      "78\n",
      "70\n"
     ]
    }
   ],
   "source": [
    "#example of for loop\n",
    "l=[1,3,53,\"swapy\",78,\"sachin\",70]\n",
    "for i in l:\n",
    "    if type(i)==int or type(i)==float:\n",
    "        print(i)\n",
    "        "
   ]
  },
  {
   "cell_type": "code",
   "execution_count": 5,
   "id": "b3c00b01-13d8-48c0-8251-d42c0a0d71bc",
   "metadata": {},
   "outputs": [
    {
     "name": "stdout",
     "output_type": "stream",
     "text": [
      "sum of first 10 natural numbers is= 55\n",
      "product of first 10 natural numbers is= 3628800\n"
     ]
    }
   ],
   "source": [
    "#2 Write a python program to print the sum and product of the first 10 natural numbers using for and while loop.\n",
    "#using while loop\n",
    "s=0\n",
    "p=1\n",
    "i=1\n",
    "while i<=10:\n",
    "    s=s+i\n",
    "    p=p*i\n",
    "    i+=1\n",
    "print(\"sum of first 10 natural numbers is=\",s)\n",
    "print(\"product of first 10 natural numbers is=\",p)\n",
    "   "
   ]
  },
  {
   "cell_type": "code",
   "execution_count": 7,
   "id": "9a4560cd-f9da-49de-b45d-a4737ad7d78a",
   "metadata": {},
   "outputs": [
    {
     "name": "stdout",
     "output_type": "stream",
     "text": [
      "sum of first 10 natural numbers is= 55\n",
      "product of first 10 natural numbers is= 3628800\n"
     ]
    }
   ],
   "source": [
    "# using for loop\n",
    "s=0\n",
    "p=1\n",
    "for i in range(1,11):\n",
    "    s=s+i\n",
    "    p=p*i\n",
    "print(\"sum of first 10 natural numbers is=\",s)\n",
    "print(\"product of first 10 natural numbers is=\",p)\n",
    "   \n",
    "    "
   ]
  },
  {
   "cell_type": "code",
   "execution_count": 1,
   "id": "65aa07b4-6776-4999-afee-01184f6d9727",
   "metadata": {},
   "outputs": [
    {
     "name": "stdin",
     "output_type": "stream",
     "text": [
      "enter the units of electricity consumed in a month 310\n"
     ]
    },
    {
     "name": "stdout",
     "output_type": "stream",
     "text": [
      "total electricity bill is= 2250.0\n"
     ]
    }
   ],
   "source": [
    "#3 calculating electricity bill\n",
    "n=int(input(\"enter the units of electricity consumed in a month\"))\n",
    "t=0\n",
    "if n<=100:\n",
    "    t=n*4.5\n",
    "    print(\"total electricity bill is=\",t)\n",
    "elif n>100 and n<=200:\n",
    "    t=100*4.5+ (n-100)*6\n",
    "    print(\"total electricity bill is=\",t)\n",
    "elif n>200 and n<=300:\n",
    "    t=100*4.5+100*6+(n-200)*10\n",
    "    print(\"total electricity bill is=\",t)\n",
    "else:\n",
    "    t=100*4.5+100*6+100*10+(n-300)*20\n",
    "    print(\"total electricity bill is=\",t)    "
   ]
  },
  {
   "cell_type": "code",
   "execution_count": 2,
   "id": "abb94afe-3417-4e8c-b7f4-f1c6cac962cf",
   "metadata": {},
   "outputs": [
    {
     "data": {
      "text/plain": [
       "'Create a list of numbers from 1 to 100. Use for loop and while loop to calculate the cube of each \\nnumber and if the cube of that number is divisible by 4 or 5 then append that number in a list and print \\nthat list'"
      ]
     },
     "execution_count": 2,
     "metadata": {},
     "output_type": "execute_result"
    }
   ],
   "source": [
    "\"\"\"Create a list of numbers from 1 to 100. Use for loop and while loop to calculate the cube of each \n",
    "number and if the cube of that number is divisible by 4 or 5 then append that number in a list and print \n",
    "that list\"\"\""
   ]
  },
  {
   "cell_type": "code",
   "execution_count": 3,
   "id": "f3e5cf0d-6083-4bcb-94ba-80d153b98283",
   "metadata": {},
   "outputs": [
    {
     "name": "stdout",
     "output_type": "stream",
     "text": [
      "[2, 4, 5, 6, 8, 10, 12, 14, 15, 16, 18, 20, 22, 24, 25, 26, 28, 30, 32, 34, 35, 36, 38, 40, 42, 44, 45, 46, 48, 50, 52, 54, 55, 56, 58, 60, 62, 64, 65, 66, 68, 70, 72, 74, 75, 76, 78, 80, 82, 84, 85, 86, 88, 90, 92, 94, 95, 96, 98, 100]\n"
     ]
    }
   ],
   "source": [
    "#4 \n",
    "l=range(1,101)\n",
    "l1=[]\n",
    "for i in l:\n",
    "    if (i**3)%4==0 or (i**3)%5==0:\n",
    "        l1.append(i)\n",
    "print(l1)\n",
    "        \n",
    "    "
   ]
  },
  {
   "cell_type": "code",
   "execution_count": 7,
   "id": "2494f8c8-190f-474f-8292-18dbd2c99e09",
   "metadata": {},
   "outputs": [
    {
     "name": "stdout",
     "output_type": "stream",
     "text": [
      "Number of vowels in the given string are = 12\n",
      "['I', 'a', 'o', 'e', 'o', 'e', 'a', 'a', 'a', 'i', 'e', 'i']\n"
     ]
    }
   ],
   "source": [
    "#  Write a program to filter count vowels in the below-given string.\n",
    "\n",
    "string = \"I want to become a data scientist\"\n",
    "count=0\n",
    "l1=[]\n",
    "for i in string:\n",
    "    if i==\"a\" or i==\"e\" or i==\"i\" or i==\"o\" or i==\"u\" or  i==\"A\" or i==\"E\" or i==\"I\" or i==\"O\" or i==\"U\":\n",
    "        count=count+1\n",
    "        l1.append(i)\n",
    "print(\"Number of vowels in the given string are =\",count) \n",
    "print(l1)"
   ]
  },
  {
   "cell_type": "code",
   "execution_count": null,
   "id": "26dc9d0c-9b98-4002-84bc-e404b6a01fc9",
   "metadata": {},
   "outputs": [],
   "source": []
  }
 ],
 "metadata": {
  "kernelspec": {
   "display_name": "Python 3 (ipykernel)",
   "language": "python",
   "name": "python3"
  },
  "language_info": {
   "codemirror_mode": {
    "name": "ipython",
    "version": 3
   },
   "file_extension": ".py",
   "mimetype": "text/x-python",
   "name": "python",
   "nbconvert_exporter": "python",
   "pygments_lexer": "ipython3",
   "version": "3.10.8"
  }
 },
 "nbformat": 4,
 "nbformat_minor": 5
}
